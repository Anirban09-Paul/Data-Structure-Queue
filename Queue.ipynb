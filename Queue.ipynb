{
 "cells": [
  {
   "cell_type": "markdown",
   "id": "856fb86b",
   "metadata": {},
   "source": [
    "# Implementing QUeue simple process"
   ]
  },
  {
   "cell_type": "code",
   "execution_count": 30,
   "id": "d32466bc",
   "metadata": {},
   "outputs": [],
   "source": [
    "from collections import deque\n",
    "q=deque()\n",
    "q.appendleft(5)\n",
    "q.appendleft(8)\n",
    "q.appendleft(15)\n",
    "q.appendleft(19)"
   ]
  },
  {
   "cell_type": "code",
   "execution_count": 31,
   "id": "618fe420",
   "metadata": {},
   "outputs": [
    {
     "name": "stdout",
     "output_type": "stream",
     "text": [
      "deque([19, 15, 8, 5])\n"
     ]
    }
   ],
   "source": [
    "print(q)"
   ]
  },
  {
   "cell_type": "code",
   "execution_count": 32,
   "id": "291464c0",
   "metadata": {},
   "outputs": [
    {
     "data": {
      "text/plain": [
       "5"
      ]
     },
     "execution_count": 32,
     "metadata": {},
     "output_type": "execute_result"
    }
   ],
   "source": [
    "q.pop()"
   ]
  },
  {
   "cell_type": "markdown",
   "id": "6afaeac0",
   "metadata": {},
   "source": [
    "# Creating class"
   ]
  },
  {
   "cell_type": "code",
   "execution_count": 33,
   "id": "7d66f10a",
   "metadata": {},
   "outputs": [],
   "source": [
    "from collections import deque"
   ]
  },
  {
   "cell_type": "code",
   "execution_count": 37,
   "id": "d0d569e0",
   "metadata": {},
   "outputs": [
    {
     "name": "stdout",
     "output_type": "stream",
     "text": [
      "None\n"
     ]
    }
   ],
   "source": [
    "class Queue:\n",
    "    def __init__(self):\n",
    "        self.buffer=deque()\n",
    "    def enqueue(self,val):\n",
    "        self.buffer.appendleft(val)\n",
    "    def dequeue(self):\n",
    "        return self.buffer.pop()\n",
    "    def is_empty(self):\n",
    "        return len(self.buffer)==0\n",
    "    def size(self):\n",
    "        return len(self.buffer)\n",
    "    \n",
    "pq=Queue()\n",
    "print(pq.enqueue({'company':'walmart','timestamp':'6august, 12.12AM','price':131})"
   ]
  }
 ],
 "metadata": {
  "kernelspec": {
   "display_name": "Python 3",
   "language": "python",
   "name": "python3"
  },
  "language_info": {
   "codemirror_mode": {
    "name": "ipython",
    "version": 3
   },
   "file_extension": ".py",
   "mimetype": "text/x-python",
   "name": "python",
   "nbconvert_exporter": "python",
   "pygments_lexer": "ipython3",
   "version": "3.9.4"
  }
 },
 "nbformat": 4,
 "nbformat_minor": 5
}
